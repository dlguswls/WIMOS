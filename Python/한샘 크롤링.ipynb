{
 "cells": [
  {
   "cell_type": "code",
   "execution_count": 1,
   "id": "db4c95a2",
   "metadata": {},
   "outputs": [
    {
     "name": "stdout",
     "output_type": "stream",
     "text": [
      "Collecting selenium==3.14.1\n",
      "  Downloading selenium-3.14.1-py2.py3-none-any.whl (902 kB)\n",
      "Requirement already satisfied: urllib3 in c:\\users\\82109\\anaconda3\\lib\\site-packages (from selenium==3.14.1) (1.26.7)\n",
      "Installing collected packages: selenium\n",
      "  Attempting uninstall: selenium\n",
      "    Found existing installation: selenium 4.1.3\n",
      "    Uninstalling selenium-4.1.3:\n",
      "      Successfully uninstalled selenium-4.1.3\n",
      "Successfully installed selenium-3.14.1\n"
     ]
    },
    {
     "name": "stderr",
     "output_type": "stream",
     "text": [
      "WARNING: Ignoring invalid distribution -tatsmodels (c:\\users\\82109\\anaconda3\\lib\\site-packages)\n",
      "WARNING: Ignoring invalid distribution -tatsmodels (c:\\users\\82109\\anaconda3\\lib\\site-packages)\n",
      "WARNING: Ignoring invalid distribution -tatsmodels (c:\\users\\82109\\anaconda3\\lib\\site-packages)\n",
      "    WARNING: Ignoring invalid distribution -tatsmodels (c:\\users\\82109\\anaconda3\\lib\\site-packages)\n",
      "WARNING: Ignoring invalid distribution -tatsmodels (c:\\users\\82109\\anaconda3\\lib\\site-packages)\n",
      "WARNING: Ignoring invalid distribution -tatsmodels (c:\\users\\82109\\anaconda3\\lib\\site-packages)\n",
      "WARNING: Ignoring invalid distribution -tatsmodels (c:\\users\\82109\\anaconda3\\lib\\site-packages)\n",
      "WARNING: Ignoring invalid distribution -tatsmodels (c:\\users\\82109\\anaconda3\\lib\\site-packages)\n"
     ]
    }
   ],
   "source": [
    "!pip install selenium==3.14.1"
   ]
  },
  {
   "cell_type": "code",
   "execution_count": 2,
   "id": "92a6c622",
   "metadata": {},
   "outputs": [
    {
     "name": "stdout",
     "output_type": "stream",
     "text": [
      "Requirement already satisfied: webdriver_manager in c:\\users\\on056\\anaconda3\\lib\\site-packages (3.8.4)\n",
      "Requirement already satisfied: tqdm in c:\\users\\on056\\anaconda3\\lib\\site-packages (from webdriver_manager) (4.64.1)\n",
      "Requirement already satisfied: requests in c:\\users\\on056\\anaconda3\\lib\\site-packages (from webdriver_manager) (2.28.1)\n",
      "Requirement already satisfied: python-dotenv in c:\\users\\on056\\anaconda3\\lib\\site-packages (from webdriver_manager) (0.21.0)\n",
      "Requirement already satisfied: charset-normalizer<3,>=2 in c:\\users\\on056\\anaconda3\\lib\\site-packages (from requests->webdriver_manager) (2.0.4)\n",
      "Requirement already satisfied: urllib3<1.27,>=1.21.1 in c:\\users\\on056\\anaconda3\\lib\\site-packages (from requests->webdriver_manager) (1.26.11)\n",
      "Requirement already satisfied: idna<4,>=2.5 in c:\\users\\on056\\anaconda3\\lib\\site-packages (from requests->webdriver_manager) (3.3)\n",
      "Requirement already satisfied: certifi>=2017.4.17 in c:\\users\\on056\\anaconda3\\lib\\site-packages (from requests->webdriver_manager) (2022.9.14)\n",
      "Requirement already satisfied: colorama in c:\\users\\on056\\anaconda3\\lib\\site-packages (from tqdm->webdriver_manager) (0.4.5)\n"
     ]
    }
   ],
   "source": [
    "!pip install webdriver_manager"
   ]
  },
  {
   "cell_type": "code",
   "execution_count": 2,
   "id": "f572ec1c",
   "metadata": {},
   "outputs": [
    {
     "ename": "ModuleNotFoundError",
     "evalue": "No module named 'webdriver_manager'",
     "output_type": "error",
     "traceback": [
      "\u001b[1;31m---------------------------------------------------------------------------\u001b[0m",
      "\u001b[1;31mModuleNotFoundError\u001b[0m                       Traceback (most recent call last)",
      "\u001b[1;32m~\\AppData\\Local\\Temp/ipykernel_8212/588017649.py\u001b[0m in \u001b[0;36m<module>\u001b[1;34m\u001b[0m\n\u001b[0;32m      4\u001b[0m \u001b[1;32mfrom\u001b[0m \u001b[0mselenium\u001b[0m\u001b[1;33m.\u001b[0m\u001b[0mwebdriver\u001b[0m\u001b[1;33m.\u001b[0m\u001b[0mcommon\u001b[0m\u001b[1;33m.\u001b[0m\u001b[0mby\u001b[0m \u001b[1;32mimport\u001b[0m \u001b[0mBy\u001b[0m\u001b[1;33m\u001b[0m\u001b[1;33m\u001b[0m\u001b[0m\n\u001b[0;32m      5\u001b[0m \u001b[1;32mfrom\u001b[0m \u001b[0mselenium\u001b[0m\u001b[1;33m.\u001b[0m\u001b[0mwebdriver\u001b[0m\u001b[1;33m.\u001b[0m\u001b[0mchrome\u001b[0m\u001b[1;33m.\u001b[0m\u001b[0mservice\u001b[0m \u001b[1;32mimport\u001b[0m \u001b[0mService\u001b[0m\u001b[1;33m\u001b[0m\u001b[1;33m\u001b[0m\u001b[0m\n\u001b[1;32m----> 6\u001b[1;33m \u001b[1;32mfrom\u001b[0m \u001b[0mwebdriver_manager\u001b[0m\u001b[1;33m.\u001b[0m\u001b[0mchrome\u001b[0m \u001b[1;32mimport\u001b[0m \u001b[0mChromeDriverManager\u001b[0m\u001b[1;33m\u001b[0m\u001b[1;33m\u001b[0m\u001b[0m\n\u001b[0m\u001b[0;32m      7\u001b[0m \u001b[1;32mfrom\u001b[0m \u001b[0mselenium\u001b[0m\u001b[1;33m.\u001b[0m\u001b[0mwebdriver\u001b[0m\u001b[1;33m.\u001b[0m\u001b[0mcommon\u001b[0m\u001b[1;33m.\u001b[0m\u001b[0mkeys\u001b[0m \u001b[1;32mimport\u001b[0m \u001b[0mKeys\u001b[0m\u001b[1;33m\u001b[0m\u001b[1;33m\u001b[0m\u001b[0m\n\u001b[0;32m      8\u001b[0m \u001b[1;33m\u001b[0m\u001b[0m\n",
      "\u001b[1;31mModuleNotFoundError\u001b[0m: No module named 'webdriver_manager'"
     ]
    }
   ],
   "source": [
    "import selenium\n",
    "import time\n",
    "from selenium import webdriver\n",
    "from selenium.webdriver.common.by import By\n",
    "from selenium.webdriver.chrome.service import Service\n",
    "from webdriver_manager.chrome import ChromeDriverManager\n",
    "from selenium.webdriver.common.keys import Keys\n",
    "\n",
    "driver = webdriver.Chrome()"
   ]
  },
  {
   "cell_type": "code",
   "execution_count": 244,
   "id": "7d7346b3",
   "metadata": {},
   "outputs": [],
   "source": [
    "url = \"https://mall.hanssem.com/search/search.do?searchKey=%EA%B0%80%EA%B5%AC\"\n",
    "driver = webdriver.Chrome('./chromedriver.exe')\n",
    "driver.get(url)"
   ]
  },
  {
   "cell_type": "code",
   "execution_count": 245,
   "id": "617e6e16",
   "metadata": {},
   "outputs": [],
   "source": [
    "name_list = []\n",
    "link_list = []\n",
    "img_list = []\n",
    "price_list = []\n",
    "star_list = []\n",
    "review_list = []\n",
    "store_list = []"
   ]
  },
  {
   "cell_type": "code",
   "execution_count": 260,
   "id": "32ed9889",
   "metadata": {},
   "outputs": [],
   "source": [
    "##원래 코드  \n",
    "    \n",
    "#이미지 \n",
    "images = driver.find_elements_by_css_selector('div > div.pthumb-img.img-on > a > img')\n",
    "#상품 링크\n",
    "links = driver.find_elements_by_css_selector(\"div > div.pthumb-img.img-on > a\")\n",
    "#product_list > li:nth-child(37) > div > div.pthumb-img > a\n",
    "#회사명\n",
    "stores = driver.find_elements_by_css_selector(\"div > a > div.pthumb-brand\")\n",
    "#product_list > li:nth-child(37) > div > a > div.pthumb-brand\n",
    "#제품명\n",
    "names = driver.find_elements_by_css_selector(\"div > a > div.pthumb-prd\")\n",
    "#product_list > li:nth-child(37) > div > a > div.pthumb-prd\n",
    "#가격\n",
    "prices = driver.find_elements_by_css_selector(\"div > div.pthumb-prc > div.pthumb-cur\")\n",
    "#product_list > li:nth-child(37) > div > div.pthumb-prc > div.pthumb-cur\n",
    "#별점\n",
    "stars = driver.find_elements_by_css_selector(\"div > div.pthumb-user > a.user-score > span\")\n",
    "#product_list > li:nth-child(37) > div > div.pthumb-user > a.user-score > span\n",
    "#리뷰개수\n",
    "reviews = driver.find_elements_by_css_selector('div > div.pthumb-user > a.user-review > span')      \n",
    "    \n",
    "           \n",
    "for i in range(len(images)):\n",
    "    name_list.append(names[i].text)\n",
    "    link_list.append(links[i].get_attribute('href'))\n",
    "    img_list.append(images[i].get_attribute('src'))\n",
    "    price_list.append(prices[i].text)\n",
    "    star_list.append(stars[i].text)\n",
    "    review_list.append(reviews[i].text)\n",
    "    store_list.append(stores[i].text)     \n"
   ]
  },
  {
   "cell_type": "code",
   "execution_count": 262,
   "id": "88df1d1e",
   "metadata": {},
   "outputs": [
    {
     "data": {
      "text/plain": [
       "334"
      ]
     },
     "execution_count": 262,
     "metadata": {},
     "output_type": "execute_result"
    }
   ],
   "source": [
    "len(name_list)"
   ]
  },
  {
   "cell_type": "code",
   "execution_count": 261,
   "id": "49fa79dc",
   "metadata": {},
   "outputs": [],
   "source": [
    "##코드 바꾼 거\n",
    "\n",
    "#이미지 \n",
    "images = driver.find_elements_by_css_selector('div > div.pthumb-img > a > img')\n",
    "#product_list > li:nth-child(37) > div > div.pthumb-img > a > img\n",
    "#product_list > li:nth-child(37) > div > div.pthumb-img > a > img\n",
    "#상품 링크\n",
    "links = driver.find_elements_by_css_selector(\"div > div.pthumb-img > a\")\n",
    "#product_list > li:nth-child(37) > div > div.pthumb-img > a\n",
    "#회사명\n",
    "stores = driver.find_elements_by_css_selector(\"div > a > div.pthumb-brand\")\n",
    "#product_list > li:nth-child(37) > div > a > div.pthumb-brand\n",
    "#제품명\n",
    "names = driver.find_elements_by_css_selector(\"div > a > div.pthumb-prd\")\n",
    "#product_list > li:nth-child(37) > div > a > div.pthumb-prd\n",
    "#가격\n",
    "prices = driver.find_elements_by_css_selector(\"div > div.pthumb-prc > div.pthumb-cur\")\n",
    "#product_list > li:nth-child(37) > div > div.pthumb-prc > div.pthumb-cur\n",
    "#별점\n",
    "stars = driver.find_elements_by_css_selector(\"div > div.pthumb-user > a.user-score > span\")\n",
    "#product_list > li:nth-child(37) > div > div.pthumb-user > a.user-score > span\n",
    "#리뷰개수\n",
    "reviews = driver.find_elements_by_css_selector('div > div.pthumb-user > a.user-review > span')      \n",
    "    \n",
    "           \n",
    "for i in range(len(images)):\n",
    "    name_list.append(names[i].text)\n",
    "    link_list.append(links[i].get_attribute('href'))\n",
    "    img_list.append(images[i].get_attribute('src'))\n",
    "    price_list.append(prices[i].text)\n",
    "    star_list.append(stars[i].text)\n",
    "    review_list.append(reviews[i].text)\n",
    "    store_list.append(stores[i].text)     \n"
   ]
  },
  {
   "cell_type": "code",
   "execution_count": 224,
   "id": "14074af1",
   "metadata": {},
   "outputs": [
    {
     "data": {
      "text/plain": [
       "238"
      ]
     },
     "execution_count": 224,
     "metadata": {},
     "output_type": "execute_result"
    }
   ],
   "source": [
    "len(name_list)"
   ]
  },
  {
   "cell_type": "code",
   "execution_count": 22,
   "id": "a4ff9a7f",
   "metadata": {},
   "outputs": [],
   "source": [
    "import pandas as pd"
   ]
  },
  {
   "cell_type": "code",
   "execution_count": 263,
   "id": "9aeedd47",
   "metadata": {},
   "outputs": [],
   "source": [
    "df = pd.DataFrame()"
   ]
  },
  {
   "cell_type": "code",
   "execution_count": 264,
   "id": "7bbf508b",
   "metadata": {},
   "outputs": [],
   "source": [
    "df['name'] = name_list\n",
    "df['link'] = link_list\n",
    "df['image'] = img_list\n",
    "df['price'] = price_list\n",
    "df['star'] = star_list\n",
    "df['review'] = review_list\n",
    "df['store'] = store_list"
   ]
  },
  {
   "cell_type": "code",
   "execution_count": 265,
   "id": "c4cf123e",
   "metadata": {},
   "outputs": [
    {
     "data": {
      "text/html": [
       "<div>\n",
       "<style scoped>\n",
       "    .dataframe tbody tr th:only-of-type {\n",
       "        vertical-align: middle;\n",
       "    }\n",
       "\n",
       "    .dataframe tbody tr th {\n",
       "        vertical-align: top;\n",
       "    }\n",
       "\n",
       "    .dataframe thead th {\n",
       "        text-align: right;\n",
       "    }\n",
       "</style>\n",
       "<table border=\"1\" class=\"dataframe\">\n",
       "  <thead>\n",
       "    <tr style=\"text-align: right;\">\n",
       "      <th></th>\n",
       "      <th>name</th>\n",
       "      <th>link</th>\n",
       "      <th>image</th>\n",
       "      <th>price</th>\n",
       "      <th>star</th>\n",
       "      <th>review</th>\n",
       "      <th>store</th>\n",
       "    </tr>\n",
       "  </thead>\n",
       "  <tbody>\n",
       "    <tr>\n",
       "      <th>0</th>\n",
       "      <td>[레드위크특가][3%쿠폰증정][New리뉴얼+온라인최저가+포토후기이벤트]레이디가구 매...</td>\n",
       "      <td>https://mall.hanssem.com/goods/goodsDetailMall...</td>\n",
       "      <td>https://image.hanssem.com/hsimg/gds/220/671/67...</td>\n",
       "      <td>61,920</td>\n",
       "      <td>4.7</td>\n",
       "      <td>232</td>\n",
       "      <td>레이디가구</td>\n",
       "    </tr>\n",
       "    <tr>\n",
       "      <th>1</th>\n",
       "      <td>★페이백 이벤트+판매량 BEST상품 11월 한달 최저가★삼익가구 우노 초대형 키큰 ...</td>\n",
       "      <td>https://mall.hanssem.com/goods/goodsDetailMall...</td>\n",
       "      <td>https://image.hanssem.com/hsimg/gds/220/818/81...</td>\n",
       "      <td>76,630</td>\n",
       "      <td>4.3</td>\n",
       "      <td>182</td>\n",
       "      <td>삼익가구</td>\n",
       "    </tr>\n",
       "    <tr>\n",
       "      <th>2</th>\n",
       "      <td>[상품평 페이백 이벤트+최저가]★판매 BEST상품 11월 한달 최저가★삼익가구 NE...</td>\n",
       "      <td>https://mall.hanssem.com/goods/goodsDetailMall...</td>\n",
       "      <td>https://image.hanssem.com/hsimg/gds/220/857/85...</td>\n",
       "      <td>279,940</td>\n",
       "      <td>4.5</td>\n",
       "      <td>113</td>\n",
       "      <td>삼익가구</td>\n",
       "    </tr>\n",
       "    <tr>\n",
       "      <th>3</th>\n",
       "      <td>[~11/15쌤딜특가] [레드위크특가][드레스룸1위+상품권페이백+3%추가쿠폰]레이디...</td>\n",
       "      <td>https://mall.hanssem.com/goods/goodsDetailMall...</td>\n",
       "      <td>https://image.hanssem.com/hsimg/gds/220/671/67...</td>\n",
       "      <td>47,950</td>\n",
       "      <td>4.4</td>\n",
       "      <td>512</td>\n",
       "      <td>레이디가구</td>\n",
       "    </tr>\n",
       "    <tr>\n",
       "      <th>4</th>\n",
       "      <td>[레드위크특가][3%쿠폰증정][한샘몰 최저가+최대5만원페이백][20%쿠폰](방수커버...</td>\n",
       "      <td>https://mall.hanssem.com/goods/goodsDetailMall...</td>\n",
       "      <td>https://image.hanssem.com/hsimg/gds/220/695/69...</td>\n",
       "      <td>309,620</td>\n",
       "      <td>4.7</td>\n",
       "      <td>619</td>\n",
       "      <td>레이디가구</td>\n",
       "    </tr>\n",
       "    <tr>\n",
       "      <th>...</th>\n",
       "      <td>...</td>\n",
       "      <td>...</td>\n",
       "      <td>...</td>\n",
       "      <td>...</td>\n",
       "      <td>...</td>\n",
       "      <td>...</td>\n",
       "      <td>...</td>\n",
       "    </tr>\n",
       "    <tr>\n",
       "      <th>329</th>\n",
       "      <td>(라지킹 LED 침대)[삼익가구]포텐 LED 4단 수납 원목 라지킹 침대모음</td>\n",
       "      <td>https://mall.hanssem.com/goods/goodsDetailMall...</td>\n",
       "      <td>https://mall.hanssem.com/resources/images/comm...</td>\n",
       "      <td>552,000</td>\n",
       "      <td>0</td>\n",
       "      <td>0</td>\n",
       "      <td>삼익가구</td>\n",
       "    </tr>\n",
       "    <tr>\n",
       "      <th>330</th>\n",
       "      <td>[삼익가구]유로 고광택 1200 와이드 6단 서랍장</td>\n",
       "      <td>https://mall.hanssem.com/goods/goodsDetailMall...</td>\n",
       "      <td>https://mall.hanssem.com/resources/images/comm...</td>\n",
       "      <td>122,000</td>\n",
       "      <td>0</td>\n",
       "      <td>0</td>\n",
       "      <td>삼익가구</td>\n",
       "    </tr>\n",
       "    <tr>\n",
       "      <th>331</th>\n",
       "      <td>장인가구 셰리 아이보리 800 서랍 주방수납장</td>\n",
       "      <td>https://mall.hanssem.com/goods/goodsDetailMall...</td>\n",
       "      <td>https://mall.hanssem.com/resources/images/comm...</td>\n",
       "      <td>104,900</td>\n",
       "      <td>4.1</td>\n",
       "      <td>9</td>\n",
       "      <td>장인가구</td>\n",
       "    </tr>\n",
       "    <tr>\n",
       "      <th>332</th>\n",
       "      <td>삼익가구 레이슨 LED 헤드선반 침대(유로탑 7존 독립스프링 매트리스-슈퍼싱글)</td>\n",
       "      <td>https://mall.hanssem.com/goods/goodsDetailMall...</td>\n",
       "      <td>https://mall.hanssem.com/resources/images/comm...</td>\n",
       "      <td>442,000</td>\n",
       "      <td>0</td>\n",
       "      <td>0</td>\n",
       "      <td>삼익가구</td>\n",
       "    </tr>\n",
       "    <tr>\n",
       "      <th>333</th>\n",
       "      <td>[온라인최저가+상품권페이백][3%쿠폰증정]레이디가구 모노 빅 슬라이딩/서랍 평상형 ...</td>\n",
       "      <td>https://mall.hanssem.com/goods/goodsDetailMall...</td>\n",
       "      <td>https://mall.hanssem.com/resources/images/comm...</td>\n",
       "      <td>231,290</td>\n",
       "      <td>4.5</td>\n",
       "      <td>8</td>\n",
       "      <td>레이디가구</td>\n",
       "    </tr>\n",
       "  </tbody>\n",
       "</table>\n",
       "<p>334 rows × 7 columns</p>\n",
       "</div>"
      ],
      "text/plain": [
       "                                                  name  \\\n",
       "0    [레드위크특가][3%쿠폰증정][New리뉴얼+온라인최저가+포토후기이벤트]레이디가구 매...   \n",
       "1    ★페이백 이벤트+판매량 BEST상품 11월 한달 최저가★삼익가구 우노 초대형 키큰 ...   \n",
       "2    [상품평 페이백 이벤트+최저가]★판매 BEST상품 11월 한달 최저가★삼익가구 NE...   \n",
       "3    [~11/15쌤딜특가] [레드위크특가][드레스룸1위+상품권페이백+3%추가쿠폰]레이디...   \n",
       "4    [레드위크특가][3%쿠폰증정][한샘몰 최저가+최대5만원페이백][20%쿠폰](방수커버...   \n",
       "..                                                 ...   \n",
       "329         (라지킹 LED 침대)[삼익가구]포텐 LED 4단 수납 원목 라지킹 침대모음   \n",
       "330                       [삼익가구]유로 고광택 1200 와이드 6단 서랍장   \n",
       "331                          장인가구 셰리 아이보리 800 서랍 주방수납장   \n",
       "332       삼익가구 레이슨 LED 헤드선반 침대(유로탑 7존 독립스프링 매트리스-슈퍼싱글)   \n",
       "333  [온라인최저가+상품권페이백][3%쿠폰증정]레이디가구 모노 빅 슬라이딩/서랍 평상형 ...   \n",
       "\n",
       "                                                  link  \\\n",
       "0    https://mall.hanssem.com/goods/goodsDetailMall...   \n",
       "1    https://mall.hanssem.com/goods/goodsDetailMall...   \n",
       "2    https://mall.hanssem.com/goods/goodsDetailMall...   \n",
       "3    https://mall.hanssem.com/goods/goodsDetailMall...   \n",
       "4    https://mall.hanssem.com/goods/goodsDetailMall...   \n",
       "..                                                 ...   \n",
       "329  https://mall.hanssem.com/goods/goodsDetailMall...   \n",
       "330  https://mall.hanssem.com/goods/goodsDetailMall...   \n",
       "331  https://mall.hanssem.com/goods/goodsDetailMall...   \n",
       "332  https://mall.hanssem.com/goods/goodsDetailMall...   \n",
       "333  https://mall.hanssem.com/goods/goodsDetailMall...   \n",
       "\n",
       "                                                 image    price star review  \\\n",
       "0    https://image.hanssem.com/hsimg/gds/220/671/67...   61,920  4.7    232   \n",
       "1    https://image.hanssem.com/hsimg/gds/220/818/81...   76,630  4.3    182   \n",
       "2    https://image.hanssem.com/hsimg/gds/220/857/85...  279,940  4.5    113   \n",
       "3    https://image.hanssem.com/hsimg/gds/220/671/67...   47,950  4.4    512   \n",
       "4    https://image.hanssem.com/hsimg/gds/220/695/69...  309,620  4.7    619   \n",
       "..                                                 ...      ...  ...    ...   \n",
       "329  https://mall.hanssem.com/resources/images/comm...  552,000    0      0   \n",
       "330  https://mall.hanssem.com/resources/images/comm...  122,000    0      0   \n",
       "331  https://mall.hanssem.com/resources/images/comm...  104,900  4.1      9   \n",
       "332  https://mall.hanssem.com/resources/images/comm...  442,000    0      0   \n",
       "333  https://mall.hanssem.com/resources/images/comm...  231,290  4.5      8   \n",
       "\n",
       "     store  \n",
       "0    레이디가구  \n",
       "1     삼익가구  \n",
       "2     삼익가구  \n",
       "3    레이디가구  \n",
       "4    레이디가구  \n",
       "..     ...  \n",
       "329   삼익가구  \n",
       "330   삼익가구  \n",
       "331   장인가구  \n",
       "332   삼익가구  \n",
       "333  레이디가구  \n",
       "\n",
       "[334 rows x 7 columns]"
      ]
     },
     "execution_count": 265,
     "metadata": {},
     "output_type": "execute_result"
    }
   ],
   "source": [
    "df"
   ]
  },
  {
   "cell_type": "code",
   "execution_count": 266,
   "id": "695ce5c3",
   "metadata": {},
   "outputs": [
    {
     "data": {
      "text/html": [
       "<div>\n",
       "<style scoped>\n",
       "    .dataframe tbody tr th:only-of-type {\n",
       "        vertical-align: middle;\n",
       "    }\n",
       "\n",
       "    .dataframe tbody tr th {\n",
       "        vertical-align: top;\n",
       "    }\n",
       "\n",
       "    .dataframe thead th {\n",
       "        text-align: right;\n",
       "    }\n",
       "</style>\n",
       "<table border=\"1\" class=\"dataframe\">\n",
       "  <thead>\n",
       "    <tr style=\"text-align: right;\">\n",
       "      <th></th>\n",
       "      <th>name</th>\n",
       "      <th>link</th>\n",
       "      <th>image</th>\n",
       "      <th>price</th>\n",
       "      <th>star</th>\n",
       "      <th>review</th>\n",
       "      <th>store</th>\n",
       "    </tr>\n",
       "  </thead>\n",
       "  <tbody>\n",
       "    <tr>\n",
       "      <th>0</th>\n",
       "      <td>[레드위크특가][3%쿠폰증정][New리뉴얼+온라인최저가+포토후기이벤트]레이디가구 매...</td>\n",
       "      <td>https://mall.hanssem.com/goods/goodsDetailMall...</td>\n",
       "      <td>https://image.hanssem.com/hsimg/gds/220/671/67...</td>\n",
       "      <td>61,920</td>\n",
       "      <td>4.7</td>\n",
       "      <td>232</td>\n",
       "      <td>레이디가구</td>\n",
       "    </tr>\n",
       "    <tr>\n",
       "      <th>1</th>\n",
       "      <td>★페이백 이벤트+판매량 BEST상품 11월 한달 최저가★삼익가구 우노 초대형 키큰 ...</td>\n",
       "      <td>https://mall.hanssem.com/goods/goodsDetailMall...</td>\n",
       "      <td>https://image.hanssem.com/hsimg/gds/220/818/81...</td>\n",
       "      <td>76,630</td>\n",
       "      <td>4.3</td>\n",
       "      <td>182</td>\n",
       "      <td>삼익가구</td>\n",
       "    </tr>\n",
       "    <tr>\n",
       "      <th>2</th>\n",
       "      <td>[상품평 페이백 이벤트+최저가]★판매 BEST상품 11월 한달 최저가★삼익가구 NE...</td>\n",
       "      <td>https://mall.hanssem.com/goods/goodsDetailMall...</td>\n",
       "      <td>https://image.hanssem.com/hsimg/gds/220/857/85...</td>\n",
       "      <td>279,940</td>\n",
       "      <td>4.5</td>\n",
       "      <td>113</td>\n",
       "      <td>삼익가구</td>\n",
       "    </tr>\n",
       "    <tr>\n",
       "      <th>3</th>\n",
       "      <td>[~11/15쌤딜특가] [레드위크특가][드레스룸1위+상품권페이백+3%추가쿠폰]레이디...</td>\n",
       "      <td>https://mall.hanssem.com/goods/goodsDetailMall...</td>\n",
       "      <td>https://image.hanssem.com/hsimg/gds/220/671/67...</td>\n",
       "      <td>47,950</td>\n",
       "      <td>4.4</td>\n",
       "      <td>512</td>\n",
       "      <td>레이디가구</td>\n",
       "    </tr>\n",
       "    <tr>\n",
       "      <th>4</th>\n",
       "      <td>[레드위크특가][3%쿠폰증정][한샘몰 최저가+최대5만원페이백][20%쿠폰](방수커버...</td>\n",
       "      <td>https://mall.hanssem.com/goods/goodsDetailMall...</td>\n",
       "      <td>https://image.hanssem.com/hsimg/gds/220/695/69...</td>\n",
       "      <td>309,620</td>\n",
       "      <td>4.7</td>\n",
       "      <td>619</td>\n",
       "      <td>레이디가구</td>\n",
       "    </tr>\n",
       "    <tr>\n",
       "      <th>...</th>\n",
       "      <td>...</td>\n",
       "      <td>...</td>\n",
       "      <td>...</td>\n",
       "      <td>...</td>\n",
       "      <td>...</td>\n",
       "      <td>...</td>\n",
       "      <td>...</td>\n",
       "    </tr>\n",
       "    <tr>\n",
       "      <th>329</th>\n",
       "      <td>(라지킹 LED 침대)[삼익가구]포텐 LED 4단 수납 원목 라지킹 침대모음</td>\n",
       "      <td>https://mall.hanssem.com/goods/goodsDetailMall...</td>\n",
       "      <td>https://mall.hanssem.com/resources/images/comm...</td>\n",
       "      <td>552,000</td>\n",
       "      <td>0</td>\n",
       "      <td>0</td>\n",
       "      <td>삼익가구</td>\n",
       "    </tr>\n",
       "    <tr>\n",
       "      <th>330</th>\n",
       "      <td>[삼익가구]유로 고광택 1200 와이드 6단 서랍장</td>\n",
       "      <td>https://mall.hanssem.com/goods/goodsDetailMall...</td>\n",
       "      <td>https://mall.hanssem.com/resources/images/comm...</td>\n",
       "      <td>122,000</td>\n",
       "      <td>0</td>\n",
       "      <td>0</td>\n",
       "      <td>삼익가구</td>\n",
       "    </tr>\n",
       "    <tr>\n",
       "      <th>331</th>\n",
       "      <td>장인가구 셰리 아이보리 800 서랍 주방수납장</td>\n",
       "      <td>https://mall.hanssem.com/goods/goodsDetailMall...</td>\n",
       "      <td>https://mall.hanssem.com/resources/images/comm...</td>\n",
       "      <td>104,900</td>\n",
       "      <td>4.1</td>\n",
       "      <td>9</td>\n",
       "      <td>장인가구</td>\n",
       "    </tr>\n",
       "    <tr>\n",
       "      <th>332</th>\n",
       "      <td>삼익가구 레이슨 LED 헤드선반 침대(유로탑 7존 독립스프링 매트리스-슈퍼싱글)</td>\n",
       "      <td>https://mall.hanssem.com/goods/goodsDetailMall...</td>\n",
       "      <td>https://mall.hanssem.com/resources/images/comm...</td>\n",
       "      <td>442,000</td>\n",
       "      <td>0</td>\n",
       "      <td>0</td>\n",
       "      <td>삼익가구</td>\n",
       "    </tr>\n",
       "    <tr>\n",
       "      <th>333</th>\n",
       "      <td>[온라인최저가+상품권페이백][3%쿠폰증정]레이디가구 모노 빅 슬라이딩/서랍 평상형 ...</td>\n",
       "      <td>https://mall.hanssem.com/goods/goodsDetailMall...</td>\n",
       "      <td>https://mall.hanssem.com/resources/images/comm...</td>\n",
       "      <td>231,290</td>\n",
       "      <td>4.5</td>\n",
       "      <td>8</td>\n",
       "      <td>레이디가구</td>\n",
       "    </tr>\n",
       "  </tbody>\n",
       "</table>\n",
       "<p>314 rows × 7 columns</p>\n",
       "</div>"
      ],
      "text/plain": [
       "                                                  name  \\\n",
       "0    [레드위크특가][3%쿠폰증정][New리뉴얼+온라인최저가+포토후기이벤트]레이디가구 매...   \n",
       "1    ★페이백 이벤트+판매량 BEST상품 11월 한달 최저가★삼익가구 우노 초대형 키큰 ...   \n",
       "2    [상품평 페이백 이벤트+최저가]★판매 BEST상품 11월 한달 최저가★삼익가구 NE...   \n",
       "3    [~11/15쌤딜특가] [레드위크특가][드레스룸1위+상품권페이백+3%추가쿠폰]레이디...   \n",
       "4    [레드위크특가][3%쿠폰증정][한샘몰 최저가+최대5만원페이백][20%쿠폰](방수커버...   \n",
       "..                                                 ...   \n",
       "329         (라지킹 LED 침대)[삼익가구]포텐 LED 4단 수납 원목 라지킹 침대모음   \n",
       "330                       [삼익가구]유로 고광택 1200 와이드 6단 서랍장   \n",
       "331                          장인가구 셰리 아이보리 800 서랍 주방수납장   \n",
       "332       삼익가구 레이슨 LED 헤드선반 침대(유로탑 7존 독립스프링 매트리스-슈퍼싱글)   \n",
       "333  [온라인최저가+상품권페이백][3%쿠폰증정]레이디가구 모노 빅 슬라이딩/서랍 평상형 ...   \n",
       "\n",
       "                                                  link  \\\n",
       "0    https://mall.hanssem.com/goods/goodsDetailMall...   \n",
       "1    https://mall.hanssem.com/goods/goodsDetailMall...   \n",
       "2    https://mall.hanssem.com/goods/goodsDetailMall...   \n",
       "3    https://mall.hanssem.com/goods/goodsDetailMall...   \n",
       "4    https://mall.hanssem.com/goods/goodsDetailMall...   \n",
       "..                                                 ...   \n",
       "329  https://mall.hanssem.com/goods/goodsDetailMall...   \n",
       "330  https://mall.hanssem.com/goods/goodsDetailMall...   \n",
       "331  https://mall.hanssem.com/goods/goodsDetailMall...   \n",
       "332  https://mall.hanssem.com/goods/goodsDetailMall...   \n",
       "333  https://mall.hanssem.com/goods/goodsDetailMall...   \n",
       "\n",
       "                                                 image    price star review  \\\n",
       "0    https://image.hanssem.com/hsimg/gds/220/671/67...   61,920  4.7    232   \n",
       "1    https://image.hanssem.com/hsimg/gds/220/818/81...   76,630  4.3    182   \n",
       "2    https://image.hanssem.com/hsimg/gds/220/857/85...  279,940  4.5    113   \n",
       "3    https://image.hanssem.com/hsimg/gds/220/671/67...   47,950  4.4    512   \n",
       "4    https://image.hanssem.com/hsimg/gds/220/695/69...  309,620  4.7    619   \n",
       "..                                                 ...      ...  ...    ...   \n",
       "329  https://mall.hanssem.com/resources/images/comm...  552,000    0      0   \n",
       "330  https://mall.hanssem.com/resources/images/comm...  122,000    0      0   \n",
       "331  https://mall.hanssem.com/resources/images/comm...  104,900  4.1      9   \n",
       "332  https://mall.hanssem.com/resources/images/comm...  442,000    0      0   \n",
       "333  https://mall.hanssem.com/resources/images/comm...  231,290  4.5      8   \n",
       "\n",
       "     store  \n",
       "0    레이디가구  \n",
       "1     삼익가구  \n",
       "2     삼익가구  \n",
       "3    레이디가구  \n",
       "4    레이디가구  \n",
       "..     ...  \n",
       "329   삼익가구  \n",
       "330   삼익가구  \n",
       "331   장인가구  \n",
       "332   삼익가구  \n",
       "333  레이디가구  \n",
       "\n",
       "[314 rows x 7 columns]"
      ]
     },
     "execution_count": 266,
     "metadata": {},
     "output_type": "execute_result"
    }
   ],
   "source": [
    "df2 = df.drop_duplicates()\n",
    "df2"
   ]
  },
  {
   "cell_type": "code",
   "execution_count": 268,
   "id": "97593900",
   "metadata": {},
   "outputs": [],
   "source": [
    "df.to_csv('한샘_수정2.csv')"
   ]
  },
  {
   "cell_type": "code",
   "execution_count": null,
   "id": "6700ec26",
   "metadata": {},
   "outputs": [],
   "source": []
  },
  {
   "cell_type": "code",
   "execution_count": null,
   "id": "d4c3f2ea",
   "metadata": {},
   "outputs": [],
   "source": [
    "images = driver.find_element_by_css_selector('div > div.pthumb-img.img-on > a > img').get_attribute('src')\n",
    "images"
   ]
  },
  {
   "cell_type": "code",
   "execution_count": 15,
   "id": "6bbbef36",
   "metadata": {},
   "outputs": [
    {
     "data": {
      "text/plain": [
       "'https://mall.hanssem.com/goods/goodsDetailMall.do?gdsNo=671184&searchdetail=gds_view&searchPagelist=1&searchKey=%EA%B0%80%EA%B5%AC'"
      ]
     },
     "execution_count": 15,
     "metadata": {},
     "output_type": "execute_result"
    }
   ],
   "source": [
    "links = driver.find_element_by_css_selector(\"div > div.pthumb-img.img-on > a\").get_attribute('href')\n",
    "links"
   ]
  },
  {
   "cell_type": "code",
   "execution_count": 10,
   "id": "8dfa94e4",
   "metadata": {},
   "outputs": [
    {
     "data": {
      "text/plain": [
       "'삼익가구'"
      ]
     },
     "execution_count": 10,
     "metadata": {},
     "output_type": "execute_result"
    }
   ],
   "source": [
    "stores = driver.find_elements_by_css_selector(\"div > a > div.pthumb-brand\")[1].text\n",
    "stores"
   ]
  },
  {
   "cell_type": "code",
   "execution_count": 17,
   "id": "0f5170e9",
   "metadata": {},
   "outputs": [
    {
     "data": {
      "text/plain": [
       "'[레드위크특가][3%쿠폰증정][New리뉴얼+온라인최저가+포토후기이벤트]레이디가구 매튜 시스템 붙박이장 여닫이 슬라이딩 옷장'"
      ]
     },
     "execution_count": 17,
     "metadata": {},
     "output_type": "execute_result"
    }
   ],
   "source": [
    "names = driver.find_element_by_css_selector(\"div > a > div.pthumb-prd\").text\n",
    "names"
   ]
  },
  {
   "cell_type": "code",
   "execution_count": 18,
   "id": "cbeb3f2c",
   "metadata": {},
   "outputs": [
    {
     "data": {
      "text/plain": [
       "'209,900'"
      ]
     },
     "execution_count": 18,
     "metadata": {},
     "output_type": "execute_result"
    }
   ],
   "source": [
    "prices = driver.find_element_by_css_selector(\"div > div.pthumb-prc > div.pthumb-sale\").text\n",
    "prices"
   ]
  },
  {
   "cell_type": "code",
   "execution_count": 19,
   "id": "55715c00",
   "metadata": {},
   "outputs": [
    {
     "data": {
      "text/plain": [
       "'4.7'"
      ]
     },
     "execution_count": 19,
     "metadata": {},
     "output_type": "execute_result"
    }
   ],
   "source": [
    "stars = driver.find_element_by_css_selector(\"div > div.pthumb-user > a.user-score > span\").text\n",
    "stars"
   ]
  },
  {
   "cell_type": "code",
   "execution_count": 20,
   "id": "39a5b056",
   "metadata": {},
   "outputs": [
    {
     "data": {
      "text/plain": [
       "'232'"
      ]
     },
     "execution_count": 20,
     "metadata": {},
     "output_type": "execute_result"
    }
   ],
   "source": [
    "reviews = driver.find_element_by_css_selector('div > div.pthumb-user > a.user-review > span').text\n",
    "reviews"
   ]
  },
  {
   "cell_type": "code",
   "execution_count": null,
   "id": "2167766c",
   "metadata": {},
   "outputs": [],
   "source": [
    "name_list.append(names[i].text)\n",
    "            link_list.append(links[i].get_attribute('href'))\n",
    "            img_list.append(images[i].get_attribute('src'))\n",
    "            price_list.append(prices[i].text)\n",
    "            star_list.append(stars[i].text)\n",
    "            review_list.append(reviews[i].text)\n",
    "            store_list.append(stores[i].text)"
   ]
  }
 ],
 "metadata": {
  "kernelspec": {
   "display_name": "Python 3 (ipykernel)",
   "language": "python",
   "name": "python3"
  },
  "language_info": {
   "codemirror_mode": {
    "name": "ipython",
    "version": 3
   },
   "file_extension": ".py",
   "mimetype": "text/x-python",
   "name": "python",
   "nbconvert_exporter": "python",
   "pygments_lexer": "ipython3",
   "version": "3.9.7"
  }
 },
 "nbformat": 4,
 "nbformat_minor": 5
}
